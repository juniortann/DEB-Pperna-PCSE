{
 "cells": [
  {
   "cell_type": "code",
   "execution_count": 1,
   "metadata": {},
   "outputs": [],
   "source": [
    "import numpy as np\n",
    "import scipy.io\n",
    "import matplotlib.pyplot as plt\n",
    "import matplotlib.ticker as mticker\n",
    "import matplotlib.patches as patches\n",
    "from mpl_toolkits.axes_grid1.inset_locator import inset_axes\n",
    "import seaborn as sns\n",
    "import cartopy.crs as ccrs\n",
    "import cartopy.feature as cfeature\n",
    "import cartopy.io.shapereader as shpreader\n",
    "from scalebar import scale_bar #Imported code from the internet\n",
    "\n",
    "from cartopy.mpl.gridliner import LONGITUDE_FORMATTER, LATITUDE_FORMATTER"
   ]
  },
  {
   "cell_type": "code",
   "execution_count": 43,
   "metadata": {},
   "outputs": [],
   "source": [
    "cname = 'Tan'; year = 2009;\n",
    "mat = scipy.io.loadmat(r'C:\\Users\\{}\\Dropbox\\DEBtool\\Perna_perna\\Test.mat'.format(cname))\n",
    "mat2 = scipy.io.loadmat(r'C:\\Users\\{}\\Dropbox\\DEBtool\\Perna_perna\\DEBmatrix{}.mat'.format(cname, year))\n",
    "\n",
    "#mat_std1 = scipy.io.loadmat(r'C:\\Users\\{}\\Dropbox\\DEBtool\\Perna_perna\\std_Li_corr.mat'.format(cname))\n",
    "#mat_std2 = scipy.io.loadmat(r'C:\\Users\\{}\\Dropbox\\DEBtool\\Perna_perna\\std_rB_corr.mat'.format(cname))\n",
    "\n",
    "#mat_p = scipy.io.loadmat(r'C:\\Users\\{}\\Dropbox\\DEBtool\\Perna_perna\\P_coefficient.mat'.format(cname))"
   ]
  },
  {
   "cell_type": "code",
   "execution_count": 44,
   "metadata": {},
   "outputs": [],
   "source": [
    "#r_B = np.array(mat['r_B'])\n",
    "lat = np.array(mat['latCHL']).ravel()\n",
    "lon = np.array(mat['lonCHL']).ravel()\n",
    "\n",
    "L_i_mean = np.array(mat2['L_i'])\n",
    "L_i_corr = np.array(mat2['L_i_corr'])\n",
    "r_B_mean = np.array(mat2['r_B'])\n",
    "r_B_mean_corr = np.array(mat2['r_B_corr'])\n",
    "\n",
    "#std_li = np.array(mat_std1['std_Li_corr'])\n",
    "#std_rb = np.array(mat_std2['std_rB_corr'])\n",
    "\n",
    "#P = np.array(mat_p['P'])"
   ]
  },
  {
   "cell_type": "code",
   "execution_count": 45,
   "metadata": {},
   "outputs": [],
   "source": [
    "lonmin = lon.min()\n",
    "lonmax = lon.max()\n",
    "latmin = lat.min()\n",
    "latmax = lat.max()\n",
    "deltalon = lonmax - lonmin\n",
    "deltalat = latmax - latmin"
   ]
  },
  {
   "cell_type": "code",
   "execution_count": 46,
   "metadata": {},
   "outputs": [
    {
     "data": {
      "text/plain": [
       "[-51.679176330566406,\n",
       " -29.929147720336914,\n",
       " -39.600826263427734,\n",
       " -20.920852661132812]"
      ]
     },
     "execution_count": 46,
     "metadata": {},
     "output_type": "execute_result"
    }
   ],
   "source": [
    "[lonmin, latmin, lonmax, latmax]"
   ]
  },
  {
   "cell_type": "code",
   "execution_count": 47,
   "metadata": {},
   "outputs": [],
   "source": [
    "#How to find L_i and r_B values for these coordinates?\n",
    "SC1 = [-26.966667, -48.583333] \n",
    "SC2 = [-27.483333, -48.533333]\n",
    "SP1 = [-23.533333, -45.066667]"
   ]
  },
  {
   "cell_type": "code",
   "execution_count": 48,
   "metadata": {},
   "outputs": [],
   "source": [
    "# If i append to lat and long and then find their locations?\n",
    "def locpixel(latlon, latstr, lonstr):\n",
    "    \"\"\"Locate the pixel coordinate\"\"\"\n",
    "    ploc_lat = np.append(latstr, latlon[0])\n",
    "    ploc_lat.sort(); #ploc_lat = np.flip(ploc_lat)\n",
    "    ploc_lon = np.append(lonstr, latlon[1])\n",
    "    ploc_lon.sort(); #ploc_lon = np.flip(ploc_lon)\n",
    "    plat_i = np.array(len(latstr))-np.where(ploc_lat == latlon[0]) #Had to correct Lat to get real values\n",
    "    plon_i = np.where(ploc_lon == latlon[1])\n",
    "    \n",
    "    return (int(plat_i[0]), int(plon_i[0]))"
   ]
  },
  {
   "cell_type": "code",
   "execution_count": 49,
   "metadata": {},
   "outputs": [],
   "source": [
    "iSP1 = locpixel(SP1, lat, lon) # Ubatuba\n",
    "iSC1 = locpixel(SC1, lat, lon) # Armação de Itapocoroy\n",
    "iSC2 = locpixel(SC2, lat, lon) # Florianópolis"
   ]
  },
  {
   "cell_type": "code",
   "execution_count": 50,
   "metadata": {},
   "outputs": [
    {
     "data": {
      "text/plain": [
       "(3.446767521368707, 6.110513217124018, nan)"
      ]
     },
     "execution_count": 50,
     "metadata": {},
     "output_type": "execute_result"
    }
   ],
   "source": [
    "L_i_corr[iSP1], L_i_corr[iSC1], L_i_corr[iSC2]"
   ]
  },
  {
   "cell_type": "code",
   "execution_count": 51,
   "metadata": {},
   "outputs": [
    {
     "data": {
      "text/plain": [
       "(0.013670387150109398, 0.011625556315048422, nan)"
      ]
     },
     "execution_count": 51,
     "metadata": {},
     "output_type": "execute_result"
    }
   ],
   "source": [
    "r_B_mean_corr[iSP1], r_B_mean_corr[iSC1], r_B_mean_corr[iSC2]"
   ]
  },
  {
   "cell_type": "code",
   "execution_count": 52,
   "metadata": {},
   "outputs": [
    {
     "data": {
      "text/plain": [
       "(8.099090876117515, 0.01064612849009705)"
      ]
     },
     "execution_count": 52,
     "metadata": {},
     "output_type": "execute_result"
    }
   ],
   "source": [
    "# SC2 pixel is on land, let's use the next pixel to the east\n",
    "L_i_corr[iSC2[0], (iSC2[1]-1)], r_B_mean_corr[iSC2[0], (iSC2[1]-1)]"
   ]
  },
  {
   "cell_type": "code",
   "execution_count": 15,
   "metadata": {},
   "outputs": [
    {
     "data": {
      "text/plain": [
       "<matplotlib.collections.PathCollection at 0x23399e73160>"
      ]
     },
     "execution_count": 15,
     "metadata": {},
     "output_type": "execute_result"
    },
    {
     "data": {
      "image/png": "[encoded data removed]",
      "text/plain": [
       "<Figure size 432x288 with 1 Axes>"
      ]
     },
     "metadata": {
      "needs_background": "light"
     },
     "output_type": "display_data"
    }
   ],
   "source": [
    "plt.imshow(L_i_corr)\n",
    "sct_x = [iSP1[1], iSC1[1], iSC2[1]]\n",
    "sct_y = [iSP1[0], iSC1[0], iSC2[0]]\n",
    "plt.scatter(sct_x, sct_y, color='r')\n",
    "plt.scatter((iSC2[1]-1), iSC2[0], color='y')"
   ]
  },
  {
   "cell_type": "code",
   "execution_count": null,
   "metadata": {},
   "outputs": [],
   "source": [
    "arquivo = shpreader.natural_earth(resolution='10m', category='cultural', name='admin_1_states_provinces')\n",
    "parser = shpreader.Reader(arquivo)"
   ]
  },
  {
   "cell_type": "code",
   "execution_count": null,
   "metadata": {},
   "outputs": [],
   "source": [
    "#L_i mean contourf for PCSE\n",
    "paises = parser.records()\n",
    "fig=plt.figure(figsize=(10, 10), dpi=600)\n",
    "ax = plt.axes(projection=ccrs.PlateCarree())\n",
    "ax.add_feature(cfeature.OCEAN, facecolor = 'k')#, alpha=.8)\n",
    "ax.add_feature(cfeature.LAND, facecolor = 'k')#, alpha=.8)\n",
    "\n",
    "extent = [-49.5, -41.5, -29, -22.5]\n",
    "ax.set_extent(extent)\n",
    "\n",
    "for estado in paises:\n",
    "    if estado.attributes['admin'] == 'Brazil':        \n",
    "        ax.add_geometries([estado.geometry], ccrs.PlateCarree(), facecolor='darkgray', edgecolor='k')\n",
    "\n",
    "#Plotting with corrected by shape coeficient values\n",
    "li_max = max(L_i_corr[~np.isnan(L_i_corr)])\n",
    "li_min = min(L_i_corr[~np.isnan(L_i_corr)])\n",
    "vmin, vmax = li_min, li_max\n",
    "levels = np.linspace(vmin,vmax,10)  \n",
    "plt.contourf(lon, lat, L_i_corr, cmap = 'rainbow',\n",
    "             vmin=vmin, vmax=vmax, levels=levels, transform=ccrs.PlateCarree())\n",
    "\n",
    "#cbaxes = inset_axes(ax, width=\"4%\", height=\"60%\",height=\"60%\", loc=4)\n",
    "cbar = plt.colorbar(ax=ax, orientation=\"horizontal\", shrink=.84, pad=.06)\n",
    "cbar.set_label('Ultimate scaled length (cm)', fontsize = 18, labelpad = 8)\n",
    "\n",
    "plt.contour(lon, lat, L_i_corr, colors='k', levels=levels, transform=ccrs.PlateCarree(), linewidths=0.2)\n",
    "\n",
    "# Setting up gridlines\n",
    "gl = ax.gridlines(draw_labels=True, linewidth=0.6, color='white', alpha=0.9)\n",
    "gl.xlabels_top = False\n",
    "gl.ylabels_right = False\n",
    "gl.xlocator = mticker.FixedLocator([-52, -50, -48, -46, -44, -42, -40, -38])\n",
    "gl.ylocator = mticker.FixedLocator([-21, -23, -25, -27, -29, -31])\n",
    "gl.xformatter = LONGITUDE_FORMATTER\n",
    "gl.yformatter = LATITUDE_FORMATTER\n",
    "\n",
    "# State name labels\n",
    "plt.text(-43.5, -22.8, 'RJ', horizontalalignment='right', transform=ccrs.PlateCarree(), \n",
    "         size='large', color='k')\n",
    "plt.text(-47.5, -23.5, 'SP', horizontalalignment='right', transform=ccrs.PlateCarree(), \n",
    "         size='large', color='k')\n",
    "plt.text(-48.9, -25.4, 'PR', horizontalalignment='right', transform=ccrs.PlateCarree(), \n",
    "         size='large', color='k')\n",
    "plt.text(-49, -27.6, 'SC', horizontalalignment='right', transform=ccrs.PlateCarree(), \n",
    "         size='large', color='k')\n",
    "\n",
    "# Set scale bar (using scalebar.py, not cartopy)\n",
    "text_kwargs = dict(size='large')\n",
    "plot_kwargs = dict(linewidth=3.6)\n",
    "scale_bar(ax, (0.8, 0.1), 100, text_kwargs=text_kwargs, plot_kwargs=plot_kwargs, color='white')\n",
    "\n",
    "# North arrow\n",
    "plt.arrow(-42.6, -27.75, 0, 0.2, linewidth=6, head_width=0.15, head_length=0.1, \n",
    "          fc='white', ec='white', transform=ccrs.PlateCarree())\n",
    "plt.text(-42.53, -28, 'N', horizontalalignment='right', transform=ccrs.PlateCarree(), \n",
    "         fontsize = 15, weight='bold', color='white')\n",
    "\n",
    "#Plot scatter data points from literature\n",
    "sct_x = [SP1[1], SC1[1], SC2[1]]\n",
    "sct_y = [SP1[0], SC1[0], SC2[0]]\n",
    "plt.scatter(sct_x, sct_y, s=100, color='w', alpha=1)\n",
    "\n",
    "fig.canvas.draw()\n",
    "plt.tight_layout(pad=3.55)\n",
    "\n",
    "#plt.savefig('plt_Li_PCSE_mean', dpi = 500)"
   ]
  },
  {
   "cell_type": "code",
   "execution_count": null,
   "metadata": {},
   "outputs": [],
   "source": []
  }
 ],
 "metadata": {
  "kernelspec": {
   "display_name": "Python 3",
   "language": "python",
   "name": "python3"
  },
  "language_info": {
   "codemirror_mode": {
    "name": "ipython",
    "version": 3
   },
   "file_extension": ".py",
   "mimetype": "text/x-python",
   "name": "python",
   "nbconvert_exporter": "python",
   "pygments_lexer": "ipython3",
   "version": "3.7.1"
  }
 },
 "nbformat": 4,
 "nbformat_minor": 4
}
